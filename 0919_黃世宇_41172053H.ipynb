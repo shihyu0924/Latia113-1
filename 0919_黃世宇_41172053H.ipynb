{
  "nbformat": 4,
  "nbformat_minor": 0,
  "metadata": {
    "colab": {
      "provenance": [],
      "gpuType": "T4"
    },
    "kernelspec": {
      "name": "python3",
      "display_name": "Python 3"
    },
    "language_info": {
      "name": "python"
    },
    "accelerator": "GPU"
  },
  "cells": [
    {
      "cell_type": "markdown",
      "source": [
        "學習分析工具實務應用113-1  09/19\n",
        "\n",
        "hello world\n",
        "\n",
        "print\n",
        "\n",
        "\n",
        "print[]\n",
        "\n",
        "\n",
        "if else\n",
        "\n",
        "\n",
        "for\n",
        "\n",
        "\n",
        "i[]\n",
        "\n",
        "\n",
        "try except\n",
        "\n",
        "\n",
        "ramge"
      ],
      "metadata": {
        "id": "7BfEu5pZnDm1"
      }
    },
    {
      "cell_type": "code",
      "execution_count": 2,
      "metadata": {
        "colab": {
          "base_uri": "https://localhost:8080/"
        },
        "id": "DpoCM25kP1lU",
        "outputId": "42c2c9e8-9b2c-4cbd-ecef-2432dc5e0675"
      },
      "outputs": [
        {
          "output_type": "stream",
          "name": "stdout",
          "text": [
            "hello world\n"
          ]
        }
      ],
      "source": [
        "print('hello world')"
      ]
    },
    {
      "cell_type": "code",
      "source": [
        "a = 10\n",
        "b = a\n",
        "c = a*b\n",
        "print(a)\n",
        "print(c)\n",
        "print(a*b*c)\n",
        "a = 2\n",
        "print(a)\n",
        "a = \"\"\"痾654165151655615\"\"\"\n",
        "print(a)"
      ],
      "metadata": {
        "colab": {
          "base_uri": "https://localhost:8080/"
        },
        "id": "JOgdQJEUSEKK",
        "outputId": "a71c1092-fe02-4ff2-c0f4-ef7e74ab7ed6"
      },
      "execution_count": 9,
      "outputs": [
        {
          "output_type": "stream",
          "name": "stdout",
          "text": [
            "10\n",
            "100\n",
            "10000\n",
            "2\n",
            "痾654165151655615\n"
          ]
        }
      ]
    },
    {
      "cell_type": "code",
      "source": [
        "a = '0123456789abcdef'\n",
        "print(a[0])\n",
        "print(a[2:8:3])\n",
        "print(a[:7:3])\n",
        "print(a[7:-2])\n",
        "print(a[:-8:2])\n"
      ],
      "metadata": {
        "colab": {
          "base_uri": "https://localhost:8080/"
        },
        "id": "eo26ZQdNUrLO",
        "outputId": "6fc6569f-bc13-4390-bf6f-de0defad5875"
      },
      "execution_count": 11,
      "outputs": [
        {
          "output_type": "stream",
          "name": "stdout",
          "text": [
            "0\n",
            "25\n",
            "036\n",
            "789abcd\n",
            "0246\n"
          ]
        }
      ]
    },
    {
      "cell_type": "code",
      "source": [
        "a = 'hello world 痾痾痾ㄟㄟㄟ?!?!'\n",
        "b = a.split('，')\n",
        "c = a.split(' ')\n",
        "d = a.split()\n",
        "print(a)\n",
        "print(b)\n",
        "print(c)\n",
        "print(d)"
      ],
      "metadata": {
        "colab": {
          "base_uri": "https://localhost:8080/"
        },
        "id": "Xdq3magJXMM3",
        "outputId": "7554dff1-94cd-4cd4-c449-44d99b89613e"
      },
      "execution_count": 18,
      "outputs": [
        {
          "output_type": "stream",
          "name": "stdout",
          "text": [
            "hello world 痾痾痾ㄟㄟㄟ?!?!\n",
            "['hello world 痾痾痾ㄟㄟㄟ?!?!']\n",
            "['hello', 'world', '痾痾痾ㄟㄟㄟ?!?!']\n",
            "['hello', 'world', '痾痾痾ㄟㄟㄟ?!?!']\n"
          ]
        }
      ]
    },
    {
      "cell_type": "code",
      "source": [
        "a = ['apple','banana','orange']\n",
        "b = [1,2,3,4,5]\n",
        "c = ['apple',1,2.3,['dog','cat']]\n",
        "d = list('apple')\n",
        "print(a,b,c,d)"
      ],
      "metadata": {
        "colab": {
          "base_uri": "https://localhost:8080/"
        },
        "id": "VwzUOu6jbeuP",
        "outputId": "f8eb9cec-7f36-42d7-c769-ca54564f6d9b"
      },
      "execution_count": 20,
      "outputs": [
        {
          "output_type": "stream",
          "name": "stdout",
          "text": [
            "['apple', 'banana', 'orange'] [1, 2, 3, 4, 5] ['apple', 1, 2.3, ['dog', 'cat']] ['a', 'p', 'p', 'l', 'e']\n"
          ]
        }
      ]
    },
    {
      "cell_type": "code",
      "source": [
        "t = ('g','gg','ggg','gggg')\n",
        "a , b, c, d = t\n",
        "print(a,b,c,d)\n",
        "print(t[0],t[1],t[2],t[3])\n",
        "q1 = ('g','gg','ggg')\n",
        "q2 = ('r','rr')\n",
        "q = q1 + q2\n",
        "print(q)"
      ],
      "metadata": {
        "colab": {
          "base_uri": "https://localhost:8080/"
        },
        "id": "jnT5Rk6YdOIi",
        "outputId": "55ef7d94-67d3-452c-9601-a908add51697"
      },
      "execution_count": 24,
      "outputs": [
        {
          "output_type": "stream",
          "name": "stdout",
          "text": [
            "g gg ggg gggg\n",
            "g gg ggg gggg\n",
            "('g', 'gg', 'ggg', 'r', 'rr')\n"
          ]
        }
      ]
    },
    {
      "cell_type": "code",
      "source": [
        "a = dict(name='oxxo',age=18,eat=['apple','banana'])\n",
        "print(a)\n",
        "print(type(a))"
      ],
      "metadata": {
        "colab": {
          "base_uri": "https://localhost:8080/"
        },
        "id": "XEplzxDQfPbN",
        "outputId": "9e79a42e-0ac3-44e5-e725-70e3adf15f02"
      },
      "execution_count": 27,
      "outputs": [
        {
          "output_type": "stream",
          "name": "stdout",
          "text": [
            "{'name': 'oxxo', 'age': 18, 'eat': ['apple', 'banana']}\n",
            "<class 'dict'>\n"
          ]
        }
      ]
    },
    {
      "cell_type": "code",
      "source": [
        "a = set()\n",
        "b = set([1,2,3,4,5,1,2,3,4,5,])\n",
        "print(a,b)"
      ],
      "metadata": {
        "colab": {
          "base_uri": "https://localhost:8080/"
        },
        "id": "FoGvU4yOhMiF",
        "outputId": "7e5c0ec2-c837-4d6a-adef-ccc810a80a03"
      },
      "execution_count": 28,
      "outputs": [
        {
          "output_type": "stream",
          "name": "stdout",
          "text": [
            "set() {1, 2, 3, 4, 5}\n"
          ]
        }
      ]
    },
    {
      "cell_type": "code",
      "source": [
        "a = 2\n",
        "b = 3\n",
        "if a > b:\n",
        "  print('nice')\n",
        "else : print('bad')"
      ],
      "metadata": {
        "colab": {
          "base_uri": "https://localhost:8080/"
        },
        "id": "3LMla2OjpeHc",
        "outputId": "a129f30a-7ca6-42ff-ab8a-0b8463d20179"
      },
      "execution_count": 35,
      "outputs": [
        {
          "output_type": "stream",
          "name": "stdout",
          "text": [
            "bad\n"
          ]
        }
      ]
    },
    {
      "cell_type": "code",
      "source": [
        "a = 2\n",
        "b = 3\n",
        "if a<b:\n",
        "  print('a<b')\n",
        "  if a==1:\n",
        "    print('a=1')\n",
        "  elif a==2:\n",
        "    print('a=2')\n",
        "  elif a==3:\n",
        "    print('a=3')\n",
        "elif a>b:\n",
        "  print('a>b')\n",
        "  if a==4:\n",
        "    print('a=4')\n",
        "  elif a>=5:\n",
        "    print('a>=5')\n"
      ],
      "metadata": {
        "colab": {
          "base_uri": "https://localhost:8080/"
        },
        "id": "Okx9JTMQqirf",
        "outputId": "9c02379c-5f4f-4554-adeb-372a98e2fe86"
      },
      "execution_count": 41,
      "outputs": [
        {
          "output_type": "stream",
          "name": "stdout",
          "text": [
            "a<b\n",
            "a=2\n"
          ]
        }
      ]
    },
    {
      "cell_type": "code",
      "source": [
        "a = 2\n",
        "b = 3\n",
        "c = 0\n",
        "if a>b or a<c and a==2 or b==4:\n",
        "  print('ok1')\n",
        "else:\n",
        " print('XXX')"
      ],
      "metadata": {
        "colab": {
          "base_uri": "https://localhost:8080/"
        },
        "id": "NzXyz9CoreUj",
        "outputId": "9eb5787f-c986-44bb-cb91-2742c11780b4"
      },
      "execution_count": 40,
      "outputs": [
        {
          "output_type": "stream",
          "name": "stdout",
          "text": [
            "XXX\n"
          ]
        }
      ]
    },
    {
      "cell_type": "code",
      "source": [
        "for a in ['x','y','z']:\n",
        "  for b in [1,2,3]:\n",
        "    print(b)\n",
        "  print(a)"
      ],
      "metadata": {
        "colab": {
          "base_uri": "https://localhost:8080/"
        },
        "id": "nswEPBmJr7CC",
        "outputId": "460920a6-66a5-484e-e86e-e1e582678dc9"
      },
      "execution_count": 42,
      "outputs": [
        {
          "output_type": "stream",
          "name": "stdout",
          "text": [
            "1\n",
            "2\n",
            "3\n",
            "x\n",
            "1\n",
            "2\n",
            "3\n",
            "y\n",
            "1\n",
            "2\n",
            "3\n",
            "z\n"
          ]
        }
      ]
    },
    {
      "cell_type": "code",
      "source": [
        "for a in ['x','y','z']:\n",
        "  for b in [1,2,3]:\n",
        "    print(f'{a}{b}')"
      ],
      "metadata": {
        "colab": {
          "base_uri": "https://localhost:8080/"
        },
        "id": "RWqOEA5QsVp7",
        "outputId": "7e795190-8480-4353-b50c-92ebb181aeb9"
      },
      "execution_count": 44,
      "outputs": [
        {
          "output_type": "stream",
          "name": "stdout",
          "text": [
            "x1\n",
            "x2\n",
            "x3\n",
            "y1\n",
            "y2\n",
            "y3\n",
            "z1\n",
            "z2\n",
            "z3\n"
          ]
        }
      ]
    },
    {
      "cell_type": "code",
      "source": [
        "i = []\n",
        "for t in range(10):\n",
        "  t+=1\n",
        "  i.append(t)\n",
        "i\n",
        "print(i)"
      ],
      "metadata": {
        "colab": {
          "base_uri": "https://localhost:8080/"
        },
        "id": "3bqM0d-ds2NO",
        "outputId": "ccbd7980-78b9-4c3c-f4c7-b7bf37cb9126"
      },
      "execution_count": 45,
      "outputs": [
        {
          "output_type": "stream",
          "name": "stdout",
          "text": [
            "[1, 2, 3, 4, 5, 6, 7, 8, 9, 10]\n"
          ]
        }
      ]
    },
    {
      "cell_type": "markdown",
      "source": [
        "下面這塊沒啥用"
      ],
      "metadata": {
        "id": "GPLIW7U-w6sW"
      }
    },
    {
      "cell_type": "code",
      "source": [
        "\n",
        "try:\n",
        "  a = input('輸入數字:')\n",
        "  print('hello')\n",
        "except:\n",
        "  pass\n",
        "print('pass')"
      ],
      "metadata": {
        "colab": {
          "base_uri": "https://localhost:8080/"
        },
        "id": "k0AcwWWttRIe",
        "outputId": "53450e3c-bab5-4a65-838e-93ef825fe050"
      },
      "execution_count": 65,
      "outputs": [
        {
          "output_type": "stream",
          "name": "stdout",
          "text": [
            "輸入數字:3\n",
            "hello\n",
            "pass\n"
          ]
        }
      ]
    },
    {
      "cell_type": "code",
      "source": [
        "a = []\n",
        "for i in range(1,10):\n",
        "  a.append(i*i)\n",
        "print(a)\n",
        "\n",
        "b = [j*j for j in range(1,10)]\n",
        "print(b)"
      ],
      "metadata": {
        "colab": {
          "base_uri": "https://localhost:8080/"
        },
        "id": "h92aPCeGuG0o",
        "outputId": "fe6d6085-bec0-47d8-ea21-7bd3d006fde8"
      },
      "execution_count": 51,
      "outputs": [
        {
          "output_type": "stream",
          "name": "stdout",
          "text": [
            "[1, 4, 9, 16, 25, 36, 49, 64, 81]\n",
            "[1, 4, 9, 16, 25, 36, 49, 64, 81]\n"
          ]
        }
      ]
    },
    {
      "cell_type": "code",
      "source": [],
      "metadata": {
        "id": "NAX5yeC2tMJf"
      },
      "execution_count": null,
      "outputs": []
    }
  ]
}